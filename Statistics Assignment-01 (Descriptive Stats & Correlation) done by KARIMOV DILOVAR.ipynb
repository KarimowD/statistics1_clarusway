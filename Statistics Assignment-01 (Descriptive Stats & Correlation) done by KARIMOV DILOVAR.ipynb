{
 "cells": [
  {
   "cell_type": "markdown",
   "metadata": {
    "deletable": false,
    "editable": false,
    "id": "80gh8Z2cV8O8"
   },
   "source": [
    "<a href=\"https://ondiande.com/contact/\"><img align=\"center\" src=\"https://i.ibb.co/B43qn24/officially-licensed-logo.png\" alt=\"ONDIA Contact\" width=\"110\" height=\"200\" title=\"This notebook is licensed by ONDIA. Please contact the authorized persons about the conditions under which you can use or share.\"></a>"
   ]
  },
  {
   "cell_type": "markdown",
   "metadata": {
    "jp-MarkdownHeadingCollapsed": true
   },
   "source": [
    "# BEFORE YOU CHECK, I WILL BE HONEST WITH YOU AND MYSELF. I USED CHATGPT TO UNDERSTAND AND SOLVE PROBLEMS, BUT FROM 7 TILL THE END THERE WERE NEW THINGS THAT WE DIDN'T LEARN SO I DECIDED NOT TO DO \n",
    "/\n",
    "/\n",
    "/\n",
    "/\n",
    "/\n",
    "/\n",
    "/\n",
    "/\n",
    "/\n",
    "/\n",
    "/\n",
    "/\n",
    "/\n",
    "/"
   ]
  },
  {
   "cell_type": "markdown",
   "metadata": {
    "id": "ABZc6u2UV8O_"
   },
   "source": [
    "<hr>\n",
    "\n",
    "<a href=\"https://lms.clarusway.com/mod/lesson/view.php?id=2463&pageid=4531&startlastseen=no\"><img align=\"center\" src=\"https://i.ibb.co/6Z5pQxD/lmss.png\" alt=\"Open in Clarusway LMS\" width=\"70\" height=\"200\" title=\"Open Clarusway Learning Management Sytem\"></a>\n",
    "\n",
    "<a href=\"https://github.com/clarusway/DS-DE-0322-Students/blob/main/3-%20Classes%26Labs/2-DAwPY/DAwPy_S01_(Numpy_Arrays).ipynb\"><img align=\"left\" src=\"https://i.ibb.co/n3HWyQX/github-logo.png\" alt=\"Open in Clarusway GitHub\" width=\"90\" height=\"150\" title=\"Open and Execute in Clarusway GitHub Repository\"></a>\n",
    "\n",
    "<a href=\"https://nbviewer.org/github/4dsolutions/clarusway_data_analysis/blob/main/DAwPy_S1_%28Numpy_Arrays%29/DAwPy_S1_%28Numpy_Arrays%29.ipynb\"><img align=\"right\" src=\"https://i.ibb.co/48wtV8c/nbviewer-badge.png\" alt=\"Open in nbviewer\" width=\"100\" height=\"100\" title=\"Open and Execute in nbviewer\"></a><br/>\n",
    "\n",
    "<hr>\n",
    "\n",
    "<p style=\"text-align: center;\"><img src=\"https://i.ibb.co/XS0bxSH/best-bootcamps.png\" width=\"300\" height=\"200\" class=\"img-fluid\" alt=\"Best Bootcamp Batches\"></p>\n",
    "\n",
    "<br>\n",
    "\n",
    "<p style=\"text-align: center;\"><img src=\"https://i.ibb.co/Rpz9L36/clarusway-logo-black.png\" width=\"500\" height=\"200\" class=\"img-fluid\" alt=\"CLRSWY_LOGO\"></p>\n",
    "\n",
    "\n",
    "<p style=\"background-color:#E51A59; font-family:newtimeroman; color:#FDFEFE; font-size:130%; text-align:center; border-radius:10px 10px;\">WAY TO REINVENT YOURSELF</p>\n",
    "\n",
    "<br>\n",
    "\n",
    "<img src=https://i.ibb.co/HgnTPh9/stats.png width=\"500\" height=\"200\">\n",
    "\n",
    "\n",
    "![Image_Assignment](https://i.ibb.co/cY9HhF7/bnote-assignment.gif)\n",
    "\n",
    "## <p style=\"background-color:#FDFEFE; font-family:newtimeroman; color:#4d77cf; font-size:175%; text-align:center; border-radius:10px 10px;\">Assignment 01 (Descriptive Statistics & Correlation)</p>"
   ]
  },
  {
   "cell_type": "markdown",
   "metadata": {
    "id": "K7S4cEyZLTp7"
   },
   "source": [
    "## <p style=\"background-color:#58B8E4; font-family:newtimeroman; color:#FFF9ED; font-size:175%; text-align:center; border-radius:10px 10px;\">Descriptive Statistics</p>"
   ]
  },
  {
   "cell_type": "markdown",
   "metadata": {
    "id": "vZRYVyc8H7hi"
   },
   "source": [
    " ### <span style=\"color:#49519E\">1. Import NumPy, SciPy, and Pandas Libraries.<span>"
   ]
  },
  {
   "cell_type": "code",
   "execution_count": 1,
   "metadata": {
    "id": "HAd1lZNGV8PC"
   },
   "outputs": [],
   "source": [
    "# YOUR CODE IS HERE\n",
    "import numpy as np\n",
    "import scipy as stats\n",
    "import pandas as pd\n",
    "from scipy import stats\n"
   ]
  },
  {
   "cell_type": "markdown",
   "metadata": {
    "id": "_SaQURIqIA6d"
   },
   "source": [
    "### <span style=\"color:#49519E\">2. Randomly generate 1,000 samples from the normal distribution using `np.random.normal()`(mean=100, standard deviation=15).<span>\n",
    "    \n",
    "#### <span style=\"color:#49519E\">Tip: Use `random.seed()` method from Numpy library to generate the same numbers across multiple runs.<span>   "
   ]
  },
  {
   "cell_type": "code",
   "execution_count": 3,
   "metadata": {
    "id": "v_2bnojEV8PE"
   },
   "outputs": [
    {
     "name": "stdout",
     "output_type": "stream",
     "text": [
      "[ 81.03921003 122.91858027  85.43933593 107.05839424  98.48954925\n",
      " 104.55689777  74.11056357 123.77643054 102.0144489   83.397168\n",
      " 123.67338324 101.61246914  88.5392826   88.37217236 120.75770748\n",
      " 111.40577627  95.71531729 108.07551215  68.74155052 114.06672565\n",
      "  99.91333006  92.98781549  93.65477051 115.9672314   56.44948605\n",
      " 124.25335562 121.38264829  90.02867322 114.77526789  74.49302102\n",
      "  83.49784289  80.26533864 112.15751365  84.32832439  89.6615594\n",
      "  87.20864703 116.70208161  71.18245423  89.47896373 112.73631774\n",
      " 115.76049682  91.94688317  99.56210923 120.91083977  94.03198837\n",
      " 115.28691077 128.4832195   94.67725534  94.19475294  71.09041922\n",
      " 108.26134889 114.31533719 111.74164756  73.10143147 118.62783245\n",
      " 125.61620314 104.84730095  85.12248409  82.55076441  99.67997351\n",
      "  76.27007062  81.35328723  93.84746464  84.17386993  84.14031786\n",
      "  80.73824176 113.69689061  79.18381989 100.45041645  93.24988357\n",
      " 103.08449703  93.09960731  97.39880513  96.75017733  96.10097747\n",
      " 108.49440146 114.85783707  91.07855047 105.15194468  61.16016204\n",
      "  99.75246522  99.00863961  98.07451444  86.56634069 108.62646569\n",
      "  92.52329942  82.67049862 113.51258032 113.1844196   77.57595981\n",
      "  95.46259438  84.04303407 125.57085779 113.16139293 115.03840435\n",
      "  84.34353193 119.02041673  95.76966623 104.97520587 106.55592121\n",
      " 106.82543364  94.3007709  111.78891343  96.12200742 113.98221947\n",
      "  79.13837555  90.12170727 110.5544416   85.57388045 114.32075938\n",
      " 115.31951716 111.08099415  93.85483262 108.66071093 106.24869965\n",
      " 107.8217759   77.89515273  91.04205266 145.30743929  95.10839251\n",
      "  91.41953268  87.77534256 108.99466425  94.41050273 106.56546071\n",
      " 107.71161963 111.37290354 106.06731796  71.73721667 105.46649797\n",
      " 105.77140985 112.19555956 108.70185677  90.91162549 103.43930619\n",
      "  79.47761304 126.62122792 106.07935904 102.37134618 102.31957827\n",
      "  91.80881519  87.25151213 107.09847127 105.70173553  85.69155208\n",
      "  83.32429119  93.65039443  97.41860407 122.75395105 118.57618237\n",
      "  94.16880244  98.43432566 103.4276319  129.00103758  86.13211896\n",
      " 105.50028435 108.92431382 131.11618928  99.03527838 107.54564582\n",
      "  90.41559853 105.97083766  92.54979939  97.14451227  88.20888182\n",
      "  96.35134191 132.74924564  78.87194005  93.94110536 115.44993006\n",
      "  87.32621756  77.85412966 100.88260676 129.89837884 106.52850822\n",
      " 108.78372115  90.00224037 100.08139333  74.19017654 125.05356951\n",
      "  96.92293411  99.31599001  90.65086983 105.52368309 131.54489382\n",
      "  91.89225172 132.78011302  88.67107398  79.09498946 101.19814399\n",
      "  88.22530422 129.53537998  86.44325713  95.319965    81.43293027\n",
      "  75.83678905 122.63100073 111.15114147  89.53496869 105.45781855\n",
      " 116.06319054 107.09149442  89.02619194 107.78855719 107.56020273\n",
      "  70.0793475  103.93636252  90.78351023 106.18209035  87.68062428\n",
      "  92.63972999 101.69592737 104.34148161  99.59419858 112.52207962\n",
      "  87.10927143  83.93712896 118.82021096 106.43066827  94.07262164\n",
      "  84.55886555 106.76474513 104.053316   107.57194733  85.33261691\n",
      " 100.19142407  99.77387871  94.11534675  85.64828995  91.74937851\n",
      "  73.65012178  99.9554558   95.63506666  94.58954384  81.02282575\n",
      " 102.45303381 113.30083699  85.32487606 107.05006301  85.98606125\n",
      " 103.7250137   78.94161847 102.75109172 106.2046188  122.91969052\n",
      "  98.16218065  82.61483358 101.33573189  96.90271662 101.07193725\n",
      " 117.5662189   70.96075664 118.92909766  97.99232863  85.34028035\n",
      "  79.92518537  92.92640157 119.58363799 112.86962381  90.56394747\n",
      " 106.11341541 142.67684263  90.64009265 105.33574267 102.18029945\n",
      " 112.43473869 119.62021351  86.24661615 110.73120406 126.90662316\n",
      " 108.40156142 109.50518669 103.62030338  90.81098919 113.43285214\n",
      "  81.13274646  83.01884132  90.99325831  87.84469968  88.95807168\n",
      "  84.4981467  100.00501856 113.16857338  91.43359511 107.90393395\n",
      " 110.59372862  94.4705705   97.83498739 101.91455378 127.3802104\n",
      "  83.29763799 132.61377703  96.01707706 101.91567639 102.36334183\n",
      "  74.38067531 109.4961847  122.54357106  99.91544779 112.08343891\n",
      "  97.8779625   93.93247792  72.78078263  96.9060094   89.0207677\n",
      "  94.94494933  96.09696567 126.21103229  83.76647427  88.72599101\n",
      "  65.99641761 152.42325108  89.63024144 125.05514858  94.7576903\n",
      " 132.77943751  99.46117583  81.31554405 102.59912695  74.9232381\n",
      " 111.09331381  86.37389956 130.99691864 103.31038    117.76554165\n",
      "  98.41230715  89.86107021 128.15308074 104.71590883 107.05899057\n",
      " 118.50840671 102.21903907  94.23764942 102.09386048  97.61772686\n",
      "  97.50296709  96.16292529 106.36521151  91.74167769  86.60543354\n",
      "  97.4740046   88.44994814  63.14568183  92.66257475 103.10839415\n",
      " 101.55572534  75.18502777  92.16665905  79.02348523 107.75185692\n",
      "  97.92793402  72.1154552   80.71038773  79.78126073  88.93368249\n",
      " 131.42725097  93.43442249  91.08545294 108.04161398  69.72404929\n",
      "  96.65704929 106.36091683 129.84490488 101.14497814 115.84952136\n",
      "  87.15981497  84.69359161  95.46437051  78.42068926 106.08638291\n",
      "  93.1255498   93.5347624  108.4323442   67.6264931   97.44691688\n",
      "  87.10159653  74.73520811 134.53521594  89.27238297  88.4035013\n",
      " 114.11977395  79.20031796 118.2558026  101.22014957  84.58780697\n",
      " 105.9713862   86.79059912  91.10559291  91.21572541 103.74877206\n",
      "  99.35591233 102.98026481  88.13533597  78.42778447  80.48111246\n",
      "  99.03932784  99.97020932 103.16816518  86.29862286  85.01139978\n",
      "  95.29908088  91.38073132  76.8417983  102.3163383   80.48988584\n",
      "  81.87569686 117.63532549 106.83278336  73.36298561  95.90591802\n",
      " 102.01836531  97.35927864 117.82037274 106.31013927  86.47227238\n",
      "  67.03313469  95.12571827 129.61175641 132.74497055  82.71167343\n",
      " 100.75055124  81.00381121 122.92776666 102.09700741 100.41894616\n",
      " 114.40892299  75.26851775  91.69303274 117.42614433  82.93684307\n",
      "  92.98082326 111.89577898 121.3225504   82.27370304  91.5953202\n",
      " 112.96691299 101.6512953   84.07684016  72.671317    70.55038665\n",
      " 130.01027427 108.72688451  80.83413366 113.33642113  70.0126318\n",
      "  88.20629637 114.16538581 115.22667753  84.12976975 107.02571832\n",
      "  93.46359033  92.78109146  92.35469375  86.35673693  82.01602168\n",
      "  98.49670296  81.14923984 110.30774007 100.71235095 123.56635603\n",
      "  97.60314967 108.44402345  99.68188378 132.41402204 100.99962264\n",
      "  89.81852438 104.42410576 119.69344323 111.69136906  99.16901962\n",
      " 112.63190849  97.49849783 111.26176278 113.54424733 114.43500293\n",
      " 118.54940353 104.28102768  95.86123168  84.58375828  90.19531565\n",
      " 108.05505669 122.07162336 102.9295046   92.64337639  99.08705323\n",
      " 124.67841955 114.58772163 111.39753525 119.60440618 108.16063025\n",
      " 102.18383436 102.82551978  94.93751777  85.50958828  92.60778689\n",
      "  96.30172914 125.19985295  84.34602252 103.43512094  97.92766126\n",
      " 103.79477943 101.61291172  80.02771428  90.65968892  99.90347599\n",
      " 139.21814641 102.36385517 111.00216858 105.32752215 103.24932639\n",
      "  80.52563837  87.44629518  91.08892101  96.67805314 114.84521503\n",
      "  98.96767931 109.87449376 110.06497158 104.48128475  87.90925028\n",
      "  86.18834011 116.2347608   99.5733633   87.79570815  98.11368946\n",
      "  95.39341691  96.75813267 108.29639531  98.09029737 104.1201905\n",
      " 118.29330812 128.28996704  85.71305248 119.94150833 119.81372008\n",
      "  86.48011311 117.17892868  91.67407276  99.82907569  92.73077871\n",
      "  92.87954818 113.43794161 106.52454492 118.08195133 102.16999945\n",
      " 116.38584611  89.71808975 118.50789202 102.30325211  85.99451398\n",
      "  84.74529772  83.04671161 104.6551029  124.20120512 104.48868692\n",
      "  90.75753001 107.17836317  88.98395988 109.84950231 105.0050722\n",
      "  97.60826404 107.9381743  104.28687    113.38916638 108.87713221\n",
      " 123.05967053  90.59146598  93.10060299 105.6691327   88.21183521\n",
      "  70.68133372  97.50324479 101.58914735 104.55193588  97.22536237\n",
      " 103.41203279 110.69872251  86.60813409  96.43462578  81.7131639\n",
      " 112.2869102   97.55109955  85.57708836 116.76062681  86.76252798\n",
      "  89.61703009  81.22815961  62.07342982 104.90127036 107.95853058\n",
      "  81.60236547  93.37637161 115.51198763 104.55970598 101.57904811\n",
      " 102.13350056 115.19372893 107.34417403 104.83723675  71.68580879\n",
      " 116.81145712 124.67605228  96.1741168  118.41675385 118.26289786\n",
      "  92.11755712 117.72732161  92.86679487 112.04891021  88.77787911\n",
      "  90.57039629  78.81397966  97.57014201 104.68690076  63.18651406\n",
      "  74.7718017  104.5510668  118.04565029 114.74191606  90.7588925\n",
      "  99.54803973 107.97694724 111.42278932  72.28419962 109.03724478\n",
      "  84.9726322   97.15201777 107.53320592 119.18855569 114.32112215\n",
      "  85.65647018  73.83546976 119.44294724 117.56466352  99.39792217\n",
      "  90.97220595  80.09986257  97.14206964 100.55282307  94.5508167\n",
      " 124.22635859 104.58813156 115.85827778  85.4608986  123.65496109\n",
      " 103.59862703 109.22444301  88.6099857  103.41907136 114.58838038\n",
      "  92.15727423  99.63620964  92.24709561 110.16075236 102.45363256\n",
      "  96.05614676 114.10179292 113.65154099 111.14095736 108.2454452\n",
      " 102.34605862 111.52876964 103.67079277  81.73231297  63.89520918\n",
      "  96.85606738 112.49116816  88.69384073 116.03224272 122.26578914\n",
      "  68.5907563   81.12868992  98.62921631 106.03226548  95.01001622\n",
      " 112.04951512 104.35623987 113.18763169  89.68619518 108.48938203\n",
      "  90.42686154  96.86585159 115.3240483  108.21083989  91.90563964\n",
      " 114.83233424  92.73471709 114.34437742 122.69401924  74.16607509\n",
      " 124.60006157  73.59821112 109.64982399 106.48760666 106.6687149\n",
      " 100.71516568 109.15510589 130.148136    84.83601962  91.01450028\n",
      "  90.41180491 121.51673932 103.27901508 108.54608226 117.91236106\n",
      "  88.22392881 103.094436   112.48031968  92.25409596  93.63592047\n",
      "  96.98743723  84.90598103 108.86829564 100.21614228  97.92733918\n",
      " 113.11885036  92.29011143 114.74502861  98.28824796 109.8058037\n",
      "  93.01983679 101.29360195 113.59702258  80.17646444  93.28174328\n",
      "  96.38387931 121.97728272  97.35995135 109.87394515 102.84632504\n",
      "  73.25373175 105.35707389  92.38237194 102.17781964  71.85666247\n",
      "  67.53074707  88.76736234 104.63088607 117.63518813 111.14008148\n",
      "  75.67739619  91.22970792  99.99024398 113.79096711  98.35196144\n",
      " 104.08203164 102.70237187  96.30533116 112.60131261 114.29204683\n",
      " 121.20009967 111.01469267 112.96688894 100.71325736  68.77309936\n",
      "  95.43526999  97.6701273   97.63768523 114.75124383  87.76843539\n",
      " 106.29191154 115.87052779 125.88243457  89.28783226  93.58094651\n",
      " 106.28688556  86.11694082  98.62481163 112.27525949 104.5345803\n",
      "  99.0323154   96.59185631 119.98572417 118.68001455 105.9275268\n",
      "  99.30641669  99.5712598   93.3220892   85.24881852 115.60898992\n",
      " 101.79537033  97.27175422  88.48142616 123.78169862 106.75765439\n",
      "  99.6232622  111.61113196  99.35959338 103.51675552 107.45994263\n",
      " 108.52720234 100.34113427 110.32747881 101.79234652  81.27442728\n",
      "  86.51725073  88.51300795  98.44837837  96.6218066   96.42816988\n",
      "  96.59259694 105.57033103  95.46589766 120.46785328  93.14951288\n",
      " 117.08080401 103.67442194  94.25084473  94.85029152 110.55528598\n",
      " 102.00058578 130.14591959 135.16952772  74.61540773 106.76501289\n",
      " 101.55499089  98.35312094  76.82298774 114.38185431  75.8151497\n",
      "  69.87556994  86.55496165  88.01474889 100.42246233 102.28550396\n",
      "  99.40512494 117.49582719 117.66311331 135.61154485  95.60894523\n",
      "  97.672055   119.33627251 104.34572819 106.46039056  90.19425853\n",
      "  90.27394775 116.20661923 103.34357224 110.28481627  92.95178424\n",
      "  83.89722224  90.22217059 108.84968215 104.10725846 110.49878689\n",
      " 100.9177401   91.44350897  94.32873     84.67667331  90.58944596\n",
      " 102.92513813 135.9166935   82.27830112  85.0863619   80.68361049\n",
      "  85.32501047  90.60542203  86.84607862 105.92427327  83.35816559\n",
      " 113.58428656  96.65828762 104.53479565  91.46318778  65.34738214\n",
      "  86.44882132 107.41172446 100.71326407  78.32224711 121.08652385\n",
      " 104.49814413  89.82017756 140.56469253 105.72853157  96.55779254\n",
      "  99.17749915  90.19811399 124.71353999 102.0678766   92.58803219\n",
      " 107.08865834  68.3839389  103.76734623  93.81399306 113.72371407\n",
      " 100.20482826 104.81845447  94.91444181 115.02756441  93.64108839\n",
      " 119.07163864 100.89921663 127.37704604  83.49418758 105.35384331\n",
      " 101.71132915  79.99631586  95.78889512  93.23468382 103.16795568\n",
      " 100.41612671 107.34816706 106.30347466  95.6596584  100.45877181\n",
      " 106.51227738 129.99290463 106.47346371  85.14242155  99.14336372\n",
      " 116.51834559 119.38756561 108.10791174 118.78591474 115.40324133\n",
      "  98.38377159 101.8550193  115.08400998  91.09104987  98.83365936\n",
      " 109.48264223 113.57434402 110.24186397  74.71572114  88.40755285\n",
      " 106.19017018 102.19503083  95.52092826  95.87122188 106.6630748\n",
      "  89.94474659 107.41757689 138.37655678 132.95618542 102.47190018\n",
      " 111.28444432 110.73954901  80.70664531 105.64907237  83.57291213\n",
      "  96.99534434  82.82297052  94.03035292  89.32868746  72.85291921\n",
      " 115.86319793 100.53064782 117.58234218  92.87496002  98.60161647\n",
      " 101.56914164  91.001768    86.87489503  80.95430727 107.67001016\n",
      "  94.35764513 122.77295157 103.86720723 105.46742309  98.4116042\n",
      "  82.17319512 108.08883641 147.32804013 110.73244474 108.71454474\n",
      " 102.97307722  85.63704175  83.29352669 116.38000062 124.8496015\n",
      " 107.34378986 106.60341387 120.12787023  88.41167695  77.15380423\n",
      " 113.87590227 117.25761276  93.09892029 122.51485838 106.05212432\n",
      " 105.72868054  94.75925848  76.76860088 112.83243126 111.75983646\n",
      "  72.98910635  75.25287856  89.26348636 109.29392193 130.64758506\n",
      " 120.6582054  115.03517621  67.31519088 119.33649011 122.09032899\n",
      " 112.56140729 103.99869601 106.60568951 102.20240289  94.84165404]\n"
     ]
    }
   ],
   "source": [
    "# YOUR CODE IS HERE\n",
    "# setting seed to avoid numbers being randomly picked each time\n",
    "np.random.seed(30)\n",
    "number_of_samples = 1000\n",
    "mean = 100\n",
    "standard_dev = 15\n",
    "# calculating by formula np.random.normal(loc = 100, scale = standard_dev, size = number_of_samples)\n",
    "samples = np.random.normal(loc = 100, scale = standard_dev, size = number_of_samples)\n",
    "print(samples)\n"
   ]
  },
  {
   "cell_type": "markdown",
   "metadata": {
    "id": "CDF8m3a4IYOC"
   },
   "source": [
    "  ### <span style=\"color:#49519E\">3. Calculate the mean, median, and mode.<span>"
   ]
  },
  {
   "cell_type": "code",
   "execution_count": 11,
   "metadata": {
    "id": "UcF8-bY_V8PE"
   },
   "outputs": [
    {
     "name": "stdout",
     "output_type": "stream",
     "text": [
      "Mean:  100.27516794553702\n",
      "Median:  100.3786304892579\n",
      "Mode:  ModeResult(mode=56.44948605084169, count=1)\n"
     ]
    }
   ],
   "source": [
    "# YOUR CODE IS HERE\n",
    "# finding mean by this formula > mean_np = np.mean(samples)\n",
    "mean_np = np.mean(samples)\n",
    "\n",
    "# finding median by this formula > median_np = np.median(samples)\n",
    "median_np = np.median(samples)\n",
    "\n",
    "# finding mode by this formula > mode_np = stats.mode(samples)\n",
    "mode_np = stats.mode(samples)\n",
    "\n",
    "print(\"Mean: \", mean_np)\n",
    "print(\"Median: \", median_np)\n",
    "print(\"Mode: \", mode_np) \n",
    "\n",
    "\n",
    "# PLEASE EXPLAIN FINDING MODE IN THIS SITUATION, I CHECKED CHATGPT IT SAYS IT IS SCALAR QUANTITY"
   ]
  },
  {
   "cell_type": "markdown",
   "metadata": {
    "id": "skT8m39XI60w"
   },
   "source": [
    "  ### <span style=\"color:#49519E\">4. Calculate the min, max, Q1, Q3, and interquartile range.<span>"
   ]
  },
  {
   "cell_type": "code",
   "execution_count": 18,
   "metadata": {
    "id": "kYpqd0W-V8PF"
   },
   "outputs": [
    {
     "name": "stdout",
     "output_type": "stream",
     "text": [
      "Minimum value:  56.44948605084169\n",
      "Maximum value:  152.42325108449288\n",
      "First quartile:  90.26100346021963\n",
      "Third quartile:  110.08891677731593\n",
      "Interquartile Range:  19.827913317096304\n"
     ]
    }
   ],
   "source": [
    "# YOUR CODE IS HERE\n",
    "min_value = np.min(samples)\n",
    "max_value = np.max(samples)\n",
    "quartile1 = np.percentile(samples, 25)\n",
    "quartile3 = np.percentile(samples, 75)\n",
    "IQR = quartile3 - quartile1\n",
    "\n",
    "print(\"Minimum value: \", min_value)\n",
    "print(\"Maximum value: \", max_value)\n",
    "print(\"First quartile: \", quartile1)\n",
    "print(\"Third quartile: \", quartile3)\n",
    "print(\"Interquartile Range: \", IQR)\n",
    "\n"
   ]
  },
  {
   "cell_type": "markdown",
   "metadata": {
    "id": "m53Dv3n5JHQi"
   },
   "source": [
    "  ### <span style=\"color:#49519E\">5. Calculate the variance and standard deviation.<span>"
   ]
  },
  {
   "cell_type": "code",
   "execution_count": 24,
   "metadata": {
    "id": "PJNWGb1ZV8PF"
   },
   "outputs": [
    {
     "name": "stdout",
     "output_type": "stream",
     "text": [
      "Variance:  217.01813498201787\n",
      "Standard Deviation:  14.73153539119456\n"
     ]
    }
   ],
   "source": [
    "# YOUR CODE IS HERE\n",
    "variance = np.var(samples)\n",
    "\n",
    "standard_dev = np.std(samples)\n",
    "\n",
    "print(\"Variance: \", variance)\n",
    "print(\"Standard Deviation: \", standard_dev)\n"
   ]
  },
  {
   "cell_type": "markdown",
   "metadata": {
    "id": "5eup4hI1JzqX"
   },
   "source": [
    "  ### <span style=\"color:#49519E\">6. Calculate the skewness and kurtosis.<span>"
   ]
  },
  {
   "cell_type": "code",
   "execution_count": 26,
   "metadata": {
    "id": "1oM_Dxg4V8PG"
   },
   "outputs": [
    {
     "name": "stdout",
     "output_type": "stream",
     "text": [
      "Skewness:  0.07730350318928933\n",
      "Kurtosis:  -0.0071517478468243745\n"
     ]
    }
   ],
   "source": [
    "# YOUR CODE IS HERE\n",
    "skewness = stats.skew(samples)\n",
    "\n",
    "kurtosis = stats.kurtosis(samples)\n",
    "\n",
    "print(\"Skewness: \", skewness)\n",
    "print(\"Kurtosis: \", kurtosis)"
   ]
  },
  {
   "cell_type": "markdown",
   "metadata": {
    "id": "a5UNc8PUKnbU"
   },
   "source": [
    "## <p style=\"background-color:#58B8E4; font-family:newtimeroman; color:#FFF9ED; font-size:175%; text-align:center; border-radius:10px 10px;\">Correlation Calculation in NumPy</p>"
   ]
  },
  {
   "cell_type": "markdown",
   "metadata": {
    "id": "cLiqxE1CMNTg"
   },
   "source": [
    "### <span style=\"color:#49519E\">7. Create an array `x` of integers between 10 (inclusive) and 20 (exclusive). Use `np.arange()`.<span>"
   ]
  },
  {
   "cell_type": "code",
   "execution_count": 30,
   "metadata": {
    "id": "-Z6R-HLSV8PG"
   },
   "outputs": [
    {
     "name": "stdout",
     "output_type": "stream",
     "text": [
      "[10 11 12 13 14 15 16 17 18 19]\n"
     ]
    }
   ],
   "source": [
    "# YOUR CODE IS HERE\n",
    "x = np.arange(10, 20)\n",
    "\n",
    "print(x)\n"
   ]
  },
  {
   "cell_type": "markdown",
   "metadata": {
    "id": "qyCIaukNMZPf"
   },
   "source": [
    "### <span style=\"color:#49519E\">8. Then use `np.array()` to create a second array `y` containing 10 arbitrary integers.<span>"
   ]
  },
  {
   "cell_type": "code",
   "execution_count": 36,
   "metadata": {
    "id": "ddpswSvqV8PH"
   },
   "outputs": [
    {
     "name": "stdout",
     "output_type": "stream",
     "text": [
      "[   1.   100.   212.  -212.    10.4  124.    25.    67.    45.    99. ]\n"
     ]
    }
   ],
   "source": [
    "# YOUR CODE IS HERE\n",
    "y = np.array([1, 100, 212, -212, 10.4, 124, 25, 67, 45,99])\n",
    "\n",
    "print(y)\n"
   ]
  },
  {
   "cell_type": "markdown",
   "metadata": {
    "id": "Kh_VeKwINSqS"
   },
   "source": [
    "### <span style=\"color:#49519E\">9. Calculate the correlation coefficient between `x` and `y`.<span>"
   ]
  },
  {
   "cell_type": "code",
   "execution_count": 38,
   "metadata": {
    "id": "tmNOTfQ6V8PH"
   },
   "outputs": [
    {
     "name": "stdout",
     "output_type": "stream",
     "text": [
      "Correlation coefficient btw x and y:  0.09898050216477412\n"
     ]
    }
   ],
   "source": [
    "# YOUR CODE IS HERE\n",
    "\n",
    "corr_coef = np.corrcoef(x,y)[0,1]\n",
    "\n",
    "print(\"Correlation coefficient btw x and y: \", corr_coef)"
   ]
  },
  {
   "cell_type": "markdown",
   "metadata": {
    "id": "vXieLjYiNtPi"
   },
   "source": [
    "## <p style=\"background-color:#58B8E4; font-family:newtimeroman; color:#FFF9ED; font-size:175%; text-align:center; border-radius:10px 10px;\">Correlation Calculation in Pandas</p>"
   ]
  },
  {
   "cell_type": "markdown",
   "metadata": {
    "id": "z56t0k0qNvkr"
   },
   "source": [
    "### <span style=\"color:#49519E\">10. Run the code below.<span>"
   ]
  },
  {
   "cell_type": "code",
   "execution_count": 40,
   "metadata": {
    "id": "9AVBMJCyNuwb"
   },
   "outputs": [],
   "source": [
    "x = pd.Series(range(10, 20))\n",
    "y = pd.Series([2, 1, 4, 5, 8, 12, 18, 25, 96, 48])"
   ]
  },
  {
   "cell_type": "markdown",
   "metadata": {
    "id": "ZajVXYe2OCih"
   },
   "source": [
    "### <span style=\"color:#49519E\">11. Calculate the `Pearson's r` correlation.<span>"
   ]
  },
  {
   "cell_type": "code",
   "execution_count": 42,
   "metadata": {
    "id": "5LLoMqxHV8PI"
   },
   "outputs": [
    {
     "name": "stdout",
     "output_type": "stream",
     "text": [
      "Correlation Coefficient btw x and y:  0.7586402890911867\n"
     ]
    }
   ],
   "source": [
    "# YOUR CODE IS HERE\n",
    "\n",
    "corr_coefficient = x.corr(y)\n",
    "\n",
    "print(\"Correlation Coefficient btw x and y: \", corr_coefficient)"
   ]
  },
  {
   "cell_type": "markdown",
   "metadata": {
    "id": "1CygSbnROb9V"
   },
   "source": [
    "### <span style=\"color:#49519E\">12. OPTIONAL. Calculate the relevant method to calculate `Spearman's rho` correlation.<span>"
   ]
  },
  {
   "cell_type": "code",
   "execution_count": null,
   "metadata": {
    "id": "N3LM48XiV8PI"
   },
   "outputs": [],
   "source": [
    "# YOUR CODE IS HERE\n",
    "\n"
   ]
  },
  {
   "cell_type": "markdown",
   "metadata": {
    "id": "we7pg7kdOo7y"
   },
   "source": [
    "## <p style=\"background-color:#58B8E4; font-family:newtimeroman; color:#FFF9ED; font-size:175%; text-align:center; border-radius:10px 10px;\">Study wit Seaborn Dataset-Tips</p>"
   ]
  },
  {
   "cell_type": "markdown",
   "metadata": {
    "id": "VlzgFKN7OvqX"
   },
   "source": [
    "### <span style=\"color:#49519E\">13. Import Seaborn Library as `sns`.<span>"
   ]
  },
  {
   "cell_type": "code",
   "execution_count": 44,
   "metadata": {
    "id": "wasaVyngV8PJ"
   },
   "outputs": [],
   "source": [
    "# YOUR CODE IS HERE\n",
    "import seaborn as sns\n"
   ]
  },
  {
   "cell_type": "markdown",
   "metadata": {
    "id": "0INVBB4tO4y4"
   },
   "source": [
    "### <span style=\"color:#49519E\">14. Load `tips` dataset from Seaborn Library.<span>"
   ]
  },
  {
   "cell_type": "code",
   "execution_count": null,
   "metadata": {
    "id": "ovWS6zyFV8PJ"
   },
   "outputs": [],
   "source": [
    "# YOUR CODE IS HERE\n",
    "\n"
   ]
  },
  {
   "cell_type": "markdown",
   "metadata": {
    "id": "o2ISqVQrPh5S"
   },
   "source": [
    "### <span style=\"color:#49519E\">15. Generate Descriptive Statistics including those that summarize the central tendency, dispersion.<span>"
   ]
  },
  {
   "cell_type": "code",
   "execution_count": null,
   "metadata": {
    "id": "iSqxD_K_V8PK"
   },
   "outputs": [],
   "source": [
    "# YOUR CODE IS HERE\n",
    "\n"
   ]
  },
  {
   "cell_type": "markdown",
   "metadata": {
    "id": "3yCRK4VJPzRo"
   },
   "source": [
    "### <span style=\"color:#49519E\">16. Calculate `Pairwise Pearson's r` correlation of columns.<span>"
   ]
  },
  {
   "cell_type": "code",
   "execution_count": null,
   "metadata": {
    "id": "YKAoR2QRV8PK"
   },
   "outputs": [],
   "source": [
    "# YOUR CODE IS HERE\n",
    "\n"
   ]
  },
  {
   "cell_type": "markdown",
   "metadata": {
    "id": "CbTcJThZV8PK"
   },
   "source": [
    "### <span style=\"color:#49519E\">17. Visualize mutual relationships of features by `pairplot'.<span>"
   ]
  },
  {
   "cell_type": "code",
   "execution_count": null,
   "metadata": {
    "id": "vzhEk_9JV8PR"
   },
   "outputs": [],
   "source": [
    "# YOUR CODE IS HERE\n",
    "\n"
   ]
  },
  {
   "cell_type": "markdown",
   "metadata": {
    "id": "g1fpZx0rV8PR"
   },
   "source": [
    "## <p style=\"background-color:#8CCED1; font-family:newtimeroman; color:#49519E; font-size:150%; text-align:center; border-radius:10px 10px;\">END OF THE ASSIGNMENT-01</p>\n",
    "\n",
    "# Now. it's time to relax!\n",
    "\n",
    "<p style=\"text-align: center;\"> <img src=\"https://i.ibb.co/qRXLyxs/blur-book-close-up-coffee-459265-scaled-e1596132095495.jpg\" width=\"800\" height=\"200\"\n",
    "\n",
    "[Image Credit](https://www.tuscany-villas.nl/in-toscane/2021/eten-en-wijn/accademia-del-caffe-espresso)\n",
    "\n",
    "<p style=\"text-align: center;\"><img src=\"https://i.ibb.co/99DQ3TY/DS-Courses.png\" class=\"img-fluid\"\n",
    "alt=\"CLRSWY_Courses\"></p>"
   ]
  },
  {
   "cell_type": "markdown",
   "metadata": {
    "deletable": false,
    "editable": false,
    "id": "pjcelkFqV8PR"
   },
   "source": [
    "<a href=\"https://ondiande.com/contact/\"><img align=\"center\" src=\"https://i.ibb.co/B43qn24/officially-licensed-logo.png\" alt=\"ONDIA Contact\" width=\"110\" height=\"200\" title=\"This notebook is licensed by ONDIA. Please contact the authorized persons about the conditions under which you can use or share.\"></a>"
   ]
  }
 ],
 "metadata": {
  "colab": {
   "provenance": [
    {
     "file_id": "1F8Ul2u7h9i9IQx5FDqVHJRsk6YPoOPBb",
     "timestamp": 1673022924234
    },
    {
     "file_id": "11XAqQ0T6shqmXGPZRiiUt8MIQEjvcH5T",
     "timestamp": 1642515419901
    }
   ]
  },
  "kernelspec": {
   "display_name": "Python 3 (ipykernel)",
   "language": "python",
   "name": "python3"
  },
  "language_info": {
   "codemirror_mode": {
    "name": "ipython",
    "version": 3
   },
   "file_extension": ".py",
   "mimetype": "text/x-python",
   "name": "python",
   "nbconvert_exporter": "python",
   "pygments_lexer": "ipython3",
   "version": "3.12.4"
  },
  "toc": {
   "base_numbering": "",
   "nav_menu": {},
   "number_sections": false,
   "sideBar": true,
   "skip_h1_title": false,
   "title_cell": "Table of Contents",
   "title_sidebar": "Contents",
   "toc_cell": false,
   "toc_position": {
    "height": "calc(100% - 180px)",
    "left": "10px",
    "top": "150px",
    "width": "307.2px"
   },
   "toc_section_display": true,
   "toc_window_display": true
  },
  "varInspector": {
   "cols": {
    "lenName": 16,
    "lenType": 16,
    "lenVar": 40
   },
   "kernels_config": {
    "python": {
     "delete_cmd_postfix": "",
     "delete_cmd_prefix": "del ",
     "library": "var_list.py",
     "varRefreshCmd": "print(var_dic_list())"
    },
    "r": {
     "delete_cmd_postfix": ") ",
     "delete_cmd_prefix": "rm(",
     "library": "var_list.r",
     "varRefreshCmd": "cat(var_dic_list()) "
    }
   },
   "types_to_exclude": [
    "module",
    "function",
    "builtin_function_or_method",
    "instance",
    "_Feature"
   ],
   "window_display": false
  },
  "widgets": {
   "application/vnd.jupyter.widget-state+json": {
    "state": {},
    "version_major": 2,
    "version_minor": 0
   }
  }
 },
 "nbformat": 4,
 "nbformat_minor": 4
}
